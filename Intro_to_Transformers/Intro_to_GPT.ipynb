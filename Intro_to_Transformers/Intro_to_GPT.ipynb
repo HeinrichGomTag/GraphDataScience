{
 "cells": [
  {
   "attachments": {},
   "cell_type": "markdown",
   "metadata": {
    "id": "zowc_Wnm7y3n"
   },
   "source": [
    "# Code taken from\n",
    "\n",
    "https://www.youtube.com/watch?v=kCc8FmEb1nY\n",
    "\n",
    "https://github.com/karpathy/ng-video-lecture"
   ]
  },
  {
   "attachments": {},
   "cell_type": "markdown",
   "metadata": {
    "id": "dUtZgZvK7meh"
   },
   "source": [
    "# Import Torch and define hyperparameters"
   ]
  },
  {
   "cell_type": "code",
   "execution_count": 2,
   "metadata": {
    "ExecuteTime": {
     "end_time": "2023-06-28T16:46:06.302408Z",
     "start_time": "2023-06-28T16:46:04.879914Z"
    },
    "colab": {
     "base_uri": "https://localhost:8080/"
    },
    "executionInfo": {
     "elapsed": 185,
     "status": "ok",
     "timestamp": 1687906114680,
     "user": {
      "displayName": "Ilja Rausch",
      "userId": "09224443308545937385"
     },
     "user_tz": 360
    },
    "id": "iKkfvWDj7BDa",
    "outputId": "17ab52ed-0909-44ec-f1da-9d587c8f34f5"
   },
   "outputs": [
    {
     "data": {
      "text/plain": [
       "<torch._C.Generator at 0x10e6f2270>"
      ]
     },
     "execution_count": 2,
     "metadata": {},
     "output_type": "execute_result"
    }
   ],
   "source": [
    "import torch\n",
    "import torch.nn as nn\n",
    "from torch.nn import functional as F\n",
    "\n",
    "# hyperparameters\n",
    "batch_size = 8 # how many independent sequences will we process in parallel?\n",
    "block_size = 64 # what is the maximum context length for predictions?\n",
    "max_iters = 500\n",
    "eval_interval = 100\n",
    "learning_rate = 3e-4\n",
    "device = 'cuda' if torch.cuda.is_available() else 'cpu'\n",
    "eval_iters = 25\n",
    "n_embd = 64\n",
    "n_head = 6\n",
    "n_layer = 2\n",
    "dropout = 0.05\n",
    "# ------------\n",
    "\n",
    "torch.manual_seed(1337)"
   ]
  },
  {
   "attachments": {},
   "cell_type": "markdown",
   "metadata": {
    "id": "7fodtuXF7_iG"
   },
   "source": [
    "# Read the input text"
   ]
  },
  {
   "cell_type": "code",
   "execution_count": 3,
   "metadata": {
    "ExecuteTime": {
     "end_time": "2023-06-28T16:46:06.312936Z",
     "start_time": "2023-06-28T16:46:06.301567Z"
    },
    "id": "1FuAPFPs7-fA"
   },
   "outputs": [],
   "source": [
    "with open('input.txt', 'r', encoding='utf-8') as f:\n",
    "    text = f.read()"
   ]
  },
  {
   "attachments": {},
   "cell_type": "markdown",
   "metadata": {
    "id": "mmUHx-8o8O-C"
   },
   "source": [
    "# Create a naive tokenizer"
   ]
  },
  {
   "cell_type": "code",
   "execution_count": 4,
   "metadata": {
    "ExecuteTime": {
     "end_time": "2023-06-28T16:46:06.314293Z",
     "start_time": "2023-06-28T16:46:06.312599Z"
    },
    "id": "UbAvOJZW8ORK"
   },
   "outputs": [],
   "source": [
    "# Get all the unique characters from the text\n",
    "chars = sorted(list(set(text)))\n",
    "vocab_size = len(chars)\n",
    "# Create a mapping from characters to integers\n",
    "stoi = { ch:i for i,ch in enumerate(chars) }\n",
    "itos = { i:ch for i,ch in enumerate(chars) }\n",
    "encode = lambda s: [stoi[c] for c in s] # encoder: take a string, output a list of integers\n",
    "decode = lambda l: ''.join([itos[i] for i in l]) # decoder: take a list of integers, output a string"
   ]
  },
  {
   "attachments": {},
   "cell_type": "markdown",
   "metadata": {
    "id": "ORIxNOuH8cEZ"
   },
   "source": [
    "# Train-test-split data"
   ]
  },
  {
   "cell_type": "code",
   "execution_count": 5,
   "metadata": {
    "ExecuteTime": {
     "end_time": "2023-06-28T16:47:24.738735Z",
     "start_time": "2023-06-28T16:47:24.735696Z"
    },
    "id": "S3ptgILv8bTC"
   },
   "outputs": [],
   "source": [
    "# Train and test splits\n",
    "data = torch.tensor(encode(text), dtype=torch.long)\n",
    "n = int(0.9*len(data)) # first 90% will be train, rest val\n",
    "train_data = data[:n]\n",
    "val_data = data[n:]"
   ]
  },
  {
   "attachments": {},
   "cell_type": "markdown",
   "metadata": {
    "id": "XJngQAyy8z6X"
   },
   "source": [
    "# Define the GPT model step by step"
   ]
  },
  {
   "attachments": {},
   "cell_type": "markdown",
   "metadata": {
    "id": "lFAQXxJ583Um"
   },
   "source": [
    "## First, define some helpers"
   ]
  },
  {
   "cell_type": "code",
   "execution_count": 6,
   "metadata": {
    "ExecuteTime": {
     "end_time": "2023-06-28T16:52:50.867038Z",
     "start_time": "2023-06-28T16:52:50.865614Z"
    },
    "id": "-lVNIi558zQH"
   },
   "outputs": [],
   "source": [
    "# A simple data loading function\n",
    "def get_batch(split):\n",
    "    # generate a small batch of data of inputs x and targets y\n",
    "    data = train_data if split == 'train' else val_data\n",
    "    ix = torch.randint(len(data) - block_size, (batch_size,))\n",
    "    x = torch.stack([data[i:i+block_size] for i in ix])\n",
    "    y = torch.stack([data[i+1:i+block_size+1] for i in ix])\n",
    "    x, y = x.to(device), y.to(device)\n",
    "    return x, y\n",
    "\n",
    "# Function to calculate the loss\n",
    "@torch.no_grad()\n",
    "def estimate_loss():\n",
    "    out = {}\n",
    "    model.eval()\n",
    "    for split in ['train', 'val']:\n",
    "        losses = torch.zeros(eval_iters)\n",
    "        for k in range(eval_iters):\n",
    "            X, Y = get_batch(split)\n",
    "            logits, loss = model(X, Y)\n",
    "            losses[k] = loss.item()\n",
    "        out[split] = losses.mean()\n",
    "    model.train()\n",
    "    return out\n",
    "\n",
    "\n",
    "# A single feed-forward neural network\n",
    "class FeedFoward(nn.Module):\n",
    "    \"\"\" a simple linear layer followed by a non-linearity \"\"\"\n",
    "\n",
    "    def __init__(self, n_embd):\n",
    "        super().__init__()\n",
    "        self.net = nn.Sequential(\n",
    "            nn.Linear(n_embd, 4 * n_embd),\n",
    "            nn.ReLU(),\n",
    "            nn.Linear(4 * n_embd, n_embd),\n",
    "            nn.Dropout(dropout),\n",
    "        )\n",
    "\n",
    "    def forward(self, x):\n",
    "        return self.net(x)"
   ]
  },
  {
   "attachments": {},
   "cell_type": "markdown",
   "metadata": {
    "id": "m_PAAxRG88yo"
   },
   "source": [
    "## Second, define a single attention head"
   ]
  },
  {
   "attachments": {},
   "cell_type": "markdown",
   "metadata": {
    "id": "UWnR_Ewllpdx"
   },
   "source": [
    "## Assignment: fill in the blanks below"
   ]
  },
  {
   "cell_type": "code",
   "execution_count": 7,
   "metadata": {},
   "outputs": [],
   "source": [
    "class Head(nn.Module):\n",
    "    \"\"\" one head of self-attention \"\"\"\n",
    "\n",
    "    def __init__(self, head_size):\n",
    "        super().__init__()\n",
    "        self.key = nn.Linear(n_embd, head_size, bias=False)\n",
    "        self.query = nn.Linear(n_embd, head_size, bias=False)\n",
    "        self.value = nn.Linear(n_embd, head_size, bias=False)\n",
    "        self.register_buffer('tril', torch.tril(torch.ones(block_size, block_size)))\n",
    "\n",
    "        self.dropout = nn.Dropout(dropout)\n",
    "\n",
    "    def forward(self, x):\n",
    "        q = self.query(x)\n",
    "        k = self.key(x)\n",
    "        kT = k.transpose(-2,-1)\n",
    "        dk = k.shape[-1]\n",
    "        v = self.value(x)\n",
    "        # Assignment: fill in the blanks to compute attention scores\n",
    "        # Remember the lecture, there are two steps missing below\n",
    "        attention_scores = q @ kT\n",
    "        attention_scores = attention_scores * dk ** (-0.5)\n",
    "        # create a mask for the decoder\n",
    "        B,T,C = x.shape\n",
    "        attention_scores = attention_scores.masked_fill(self.tril[:T, :T] == 0, float('-inf'))\n",
    "        # Assignment: apply the softmax function\n",
    "        attention_scores = F.softmax(attention_scores)\n",
    "        attention_scores = self.dropout(attention_scores) # An optional Dropout layer\n",
    "        # perform the weighted aggregation of the values\n",
    "        # Assignment: apply the final step in the attention mechanism\n",
    "        attention_scores = attention_scores @ v\n",
    "        return attention_scores"
   ]
  },
  {
   "attachments": {},
   "cell_type": "markdown",
   "metadata": {
    "id": "YKQaL-tw-Wfy"
   },
   "source": [
    "## Third, combine several attention heads into multi-head attention"
   ]
  },
  {
   "cell_type": "code",
   "execution_count": 8,
   "metadata": {
    "id": "TTJeh0Hx-dAR"
   },
   "outputs": [],
   "source": [
    "class MultiHeadAttention(nn.Module):\n",
    "    \"\"\" multiple heads of self-attention in parallel \"\"\"\n",
    "\n",
    "    def __init__(self, num_heads, head_size):\n",
    "        super().__init__()\n",
    "        self.heads = nn.ModuleList([Head(head_size) for _ in range(num_heads)])\n",
    "        self.proj = nn.Linear(head_size * num_heads, n_embd)\n",
    "        self.dropout = nn.Dropout(dropout)\n",
    "\n",
    "    def forward(self, x):\n",
    "        out = torch.cat([h(x) for h in self.heads], dim=-1)\n",
    "        out = self.dropout(self.proj(out))\n",
    "        return out"
   ]
  },
  {
   "attachments": {},
   "cell_type": "markdown",
   "metadata": {
    "id": "paHtJavd_Uhz"
   },
   "source": [
    "## Create a single Transformer block"
   ]
  },
  {
   "cell_type": "code",
   "execution_count": 9,
   "metadata": {
    "id": "DBgxCRUg_UG4"
   },
   "outputs": [],
   "source": [
    "class Block(nn.Module):\n",
    "    \"\"\" Transformer block: communication followed by computation \"\"\"\n",
    "\n",
    "    def __init__(self, n_embd, n_head):\n",
    "        # n_embd: embedding dimension, n_head: the number of heads we'd like\n",
    "        super().__init__()\n",
    "        head_size = n_embd // n_head\n",
    "        self.self_attention = MultiHeadAttention(n_head, head_size)\n",
    "        self.ffwd = FeedFoward(n_embd)\n",
    "        self.ln1 = nn.LayerNorm(n_embd)\n",
    "        self.ln2 = nn.LayerNorm(n_embd)\n",
    "\n",
    "    def forward(self, x):\n",
    "        x_normed1 = self.ln1(x)\n",
    "        attention_out = self.self_attention(x_normed1)\n",
    "        x = x + x_normed1\n",
    "        x_normed2 = self.ln2(x)\n",
    "        feed_forward_out = self.ffwd(x_normed2)\n",
    "        x = x + feed_forward_out\n",
    "        return x"
   ]
  },
  {
   "attachments": {},
   "cell_type": "markdown",
   "metadata": {
    "id": "j8X7kqbE_c_P"
   },
   "source": [
    "## Fifth, combine everything into the GPT model"
   ]
  },
  {
   "attachments": {},
   "cell_type": "markdown",
   "metadata": {
    "id": "BhGQ7WRqmxe_"
   },
   "source": [
    "## Assignment: fill in the blanks below"
   ]
  },
  {
   "cell_type": "code",
   "execution_count": 12,
   "metadata": {
    "id": "EJNb9s77_wao"
   },
   "outputs": [],
   "source": [
    "class GPTLanguageModel(nn.Module):\n",
    "\n",
    "    def __init__(self):\n",
    "        super().__init__()\n",
    "        # Define embedding tables for the tokens and position embeddigns\n",
    "        # each token directly reads off the values for the next token from a lookup table\n",
    "        self.token_embedding_table = nn.Embedding(vocab_size, n_embd)\n",
    "        self.position_embedding_table = nn.Embedding(block_size, n_embd)\n",
    "        # Define a sequence of several self_attention blocks\n",
    "        self.blocks = nn.Sequential(*[Block(n_embd, n_head=n_head) for _ in range(n_layer)])\n",
    "        # Define the final normalization layer and one single neural network layer (called Linear because it's just a linear neural-network model with a single mapping from an input layer to the output layer, no hidden layers)\n",
    "        self.ln_f = nn.LayerNorm(n_embd) # final layer norm\n",
    "        self.lm_head = nn.Linear(n_embd, vocab_size)\n",
    "\n",
    "        # better init, not covered in the original GPT video, but important, will cover in followup video\n",
    "        self.apply(self._init_weights)\n",
    "\n",
    "    def _init_weights(self, module):\n",
    "        if isinstance(module, nn.Linear):\n",
    "            torch.nn.init.normal_(module.weight, mean=0.0, std=0.02)\n",
    "            if module.bias is not None:\n",
    "                torch.nn.init.zeros_(module.bias)\n",
    "        elif isinstance(module, nn.Embedding):\n",
    "            torch.nn.init.normal_(module.weight, mean=0.0, std=0.02)\n",
    "\n",
    "    def forward(self, idx, targets=None):\n",
    "        B, T = idx.shape\n",
    "\n",
    "        # idx and targets are both (B,T) tensor of integers\n",
    "        tok_emb = self.token_embedding_table(idx)\n",
    "        pos_emb = self.position_embedding_table(torch.arange(T, device=device))\n",
    "        # Assignment: complete the transformer steps below.\n",
    "        x = tok_emb + pos_emb # 1. Add the input embeddings\n",
    "        x = self.blocks(x) # 2. Run the attention mechanism. Hint: Use one of the objects defined in _init_()\n",
    "        x = self.ln_f(x) # 3. Run the final normalization. Hint: Use one of the objects defined in _init_()\n",
    "        logits = self.lm_head(x) # 4. Run the output through a final linear neural network model.  Hint: Use one of the objects defined in _init_() ... # 4. Run the output through a final linear neural network model.  Hint: Use one of the objects defined in __init__()\n",
    "\n",
    "        # Compute the loss\n",
    "        if targets is None:\n",
    "            loss = None\n",
    "        else:\n",
    "            B, T, C = logits.shape\n",
    "            logits = logits.view(B*T, C)\n",
    "            targets = targets.view(B*T)\n",
    "            loss = F.cross_entropy(logits, targets)\n",
    "\n",
    "        return logits, loss\n",
    "\n",
    "    def generate(self, idx, max_new_tokens):\n",
    "        # idx is (B, T) array of indices in the current context\n",
    "        for _ in range(max_new_tokens):\n",
    "            # crop idx to the last block_size tokens\n",
    "            idx_cond = idx[:, -block_size:]\n",
    "            # get the predictions\n",
    "            logits, _ = self(idx_cond)\n",
    "            # focus only on the last time step\n",
    "            logits = logits[:, -1, :] # becomes (B, C)\n",
    "            # apply softmax to get probabilities\n",
    "            probs = F.softmax(logits, dim=-1) # (B, C)\n",
    "            # sample from the distribution\n",
    "            idx_next = torch.multinomial(probs, num_samples=1) # (B, 1)\n",
    "            # append sampled index to the running sequence\n",
    "            idx = torch.cat((idx, idx_next), dim=1) # (B, T+1)\n",
    "        return idx"
   ]
  },
  {
   "cell_type": "code",
   "execution_count": 11,
   "metadata": {
    "id": "ytlpJCUi63Ju"
   },
   "outputs": [
    {
     "name": "stdout",
     "output_type": "stream",
     "text": [
      "0.110145 M parameters\n"
     ]
    },
    {
     "name": "stderr",
     "output_type": "stream",
     "text": [
      "/var/folders/wj/tvdm7qp11rlf5k20r5kb0qg80000gq/T/ipykernel_33740/2000775134.py:27: UserWarning: Implicit dimension choice for softmax has been deprecated. Change the call to include dim=X as an argument.\n",
      "  attention_scores = F.softmax(attention_scores)\n"
     ]
    },
    {
     "name": "stdout",
     "output_type": "stream",
     "text": [
      "step 0: train loss 4.1740, val loss 4.1736\n",
      "step 100: train loss 3.0505, val loss 3.1091\n",
      "step 200: train loss 2.7555, val loss 2.7605\n",
      "step 300: train loss 2.6330, val loss 2.6361\n",
      "step 400: train loss 2.5827, val loss 2.5997\n",
      "step 499: train loss 2.5683, val loss 2.5614\n",
      "\n",
      "Iurinemey on irumee,,:\n",
      "O:\n",
      "Vir oroder tooul fafo iwyo$ounimerid? y t yoveog\n",
      "T. :\n",
      "xs tthow whaweryofrs! chte, hil a baicranNLORAsathiy t lle Hensx, wr, tre s wo aprest'?\n",
      "\n",
      "'d we sd atyo Wh d.\n",
      "T: iamyonde oundotol\n",
      "AFs mupl,\n",
      "TI d thaf test he oriKFis ithed ea figaizy pd f Wh pot mmucede se d\n",
      "IRD a h, nd s\n",
      "LIBWe be fra s;\n",
      "IArthae meaf ly avuathat atre! ttlllis gt.\n",
      "\n",
      "An eBuf asterzyyaY:\n",
      "D faldtheroouGL:\n",
      "fou ofandsv,\n",
      "Yanjin theatedld:\n",
      "ANe wnthe y f bum sous thers IK;\n",
      "\n",
      "LCeveldo vishlitent seysuQRT:\n",
      "fle\n",
      "Pi\n"
     ]
    }
   ],
   "source": [
    "model = GPTLanguageModel()\n",
    "m = model.to(device)\n",
    "# print the number of parameters in the model\n",
    "print(sum(p.numel() for p in m.parameters())/1e6, 'M parameters')\n",
    "\n",
    "# create a PyTorch optimizer\n",
    "optimizer = torch.optim.AdamW(model.parameters(), lr=learning_rate)\n",
    "\n",
    "for iter in range(max_iters):\n",
    "\n",
    "    # every once in a while evaluate the loss on train and val sets\n",
    "    if iter % eval_interval == 0 or iter == max_iters - 1:\n",
    "        losses = estimate_loss()\n",
    "        print(f\"step {iter}: train loss {losses['train']:.4f}, val loss {losses['val']:.4f}\")\n",
    "\n",
    "    # sample a batch of data\n",
    "    xb, yb = get_batch('train')\n",
    "\n",
    "    # evaluate the loss\n",
    "    logits, loss = model(xb, yb)\n",
    "    optimizer.zero_grad(set_to_none=True)\n",
    "    loss.backward()\n",
    "    optimizer.step()\n",
    "\n",
    "# generate from the model\n",
    "context = torch.zeros((1, 1), dtype=torch.long, device=device)\n",
    "print(decode(m.generate(context, max_new_tokens=500)[0].tolist()))\n",
    "#open('more.txt', 'w').write(decode(m.generate(context, max_new_tokens=10000)[0].tolist()))\n"
   ]
  },
  {
   "cell_type": "code",
   "execution_count": null,
   "metadata": {
    "id": "eZ7wZ25yCHJB"
   },
   "outputs": [],
   "source": []
  }
 ],
 "metadata": {
  "colab": {
   "authorship_tag": "ABX9TyOgRECit9yBb8HOuACVbSUL",
   "provenance": []
  },
  "kernelspec": {
   "display_name": "Python 3 (ipykernel)",
   "language": "python",
   "name": "python3"
  },
  "language_info": {
   "codemirror_mode": {
    "name": "ipython",
    "version": 3
   },
   "file_extension": ".py",
   "mimetype": "text/x-python",
   "name": "python",
   "nbconvert_exporter": "python",
   "pygments_lexer": "ipython3",
   "version": "3.11.2"
  }
 },
 "nbformat": 4,
 "nbformat_minor": 0
}
